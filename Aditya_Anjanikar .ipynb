{
  "nbformat": 4,
  "nbformat_minor": 0,
  "metadata": {
    "colab": {
      "provenance": []
    },
    "kernelspec": {
      "name": "python3",
      "display_name": "Python 3"
    },
    "language_info": {
      "name": "python"
    }
  },
  "cells": [
    {
      "cell_type": "markdown",
      "source": [
        "Aditya Anjanikar"
      ],
      "metadata": {
        "id": "hhkggjUJQj-P"
      }
    },
    {
      "cell_type": "markdown",
      "source": [
        "Creation of Dictionary and translation"
      ],
      "metadata": {
        "id": "ASJwfHiXRe0p"
      }
    },
    {
      "cell_type": "code",
      "execution_count": null,
      "metadata": {
        "colab": {
          "base_uri": "https://localhost:8080/"
        },
        "id": "ESnjvI5YZUb9",
        "outputId": "c21037c3-3de5-4bdd-9b90-2a1a13a6aa56"
      },
      "outputs": [
        {
          "output_type": "stream",
          "name": "stdout",
          "text": [
            "\n",
            "Recovery Agent (RA): Hello Mr. Kumar, I am calling from XYZ Finance. I wanted to talk about your loan.\n",
            "Borrower (B): हां, बोलिए. What is the matter?\n",
            "RA: सर, Your last month's EMI hasn't been received yet. Is there any problem?\n",
            "B: हां, There is a bit of trouble. I lost my job and I am looking for a new one.\n",
            "RA: ओह, यह तो बुरा हुआ. लेकिन सर, आपको समझना होगा कि It is very important to pay the loan on time.\n",
            "B: मैं समझता हूं, लेकिन अभी I don't have money right now. Can I get some time?\n",
            "RA: हम समझते हैं आपकी स्थिति. Can you make some payment by next week?\n",
            "B: मैं कोशिश करूंगा, लेकिन I won't be able to pay the full EMI. Will half the payment be fine?\n",
            "RA: ठीक है, Make half the payment by next week. बाकी का क्या प्लान है आपका?\n",
            "B: मुझे उम्मीद है कि अगले महीने तक मुझे नया काम मिल जाएगा. तब मैं बाकी बकाया चुका दूंगा.\n",
            "RA: ठीक है. तो हम ऐसा करते हैं - आप अगले हफ्ते तक आधा EMI जमा कर दीजिए, और अगले महीने के 15 तारीख तक बाकी का भुगतान कर दीजिए. Is this acceptable to you?\n",
            "B: हां, यह ठीक रहेगा. I will try my best to follow this plan.\n",
            "RA: बहुत अच्छा. I am sending you an SMS with the payment details. कृपया इसका पालन करें और समय पर भुगतान करें.\n",
            "B: ठीक है, Thank you for understanding.\n",
            "RA: आपका स्वागत है. If you have any other questions, let me know. Goodbye.\n",
            "B: Goodbye.\n",
            "\n"
          ]
        }
      ],
      "source": [
        "# Dictionary containing key phrases and their translations\n",
        "translations = {\n",
        "    \"नमस्ते\": \"Hello\",\n",
        "    \"श्री कुमार\": \"Mr. Kumar\",\n",
        "    \"मैं एक्स वाई जेड फाइनेंस से बोल रहा हूं\": \"I am calling from XYZ Finance\",\n",
        "    \"आपके लोन के बारे में बात करनी थी\": \"I wanted to talk about your loan\",\n",
        "    \"क्या बात है?\": \"What is the matter?\",\n",
        "    \"आपका पिछले महीने का EMI अभी तक नहीं आया है\": \"Your last month's EMI hasn't been received yet\",\n",
        "    \"क्या कोई समस्या है?\": \"Is there any problem?\",\n",
        "    \"थोड़ी दिक्कत है\": \"There is a bit of trouble\",\n",
        "    \"मेरी नौकरी चली गई है और मैं नया काम ढूंढ रहा हूं\": \"I lost my job and I am looking for a new one\",\n",
        "    \"लोन का भुगतान समय पर करना बहुत जरूरी है\": \"It is very important to pay the loan on time\",\n",
        "    \"मेरे पास पैसे नहीं हैं\": \"I don't have money right now\",\n",
        "    \"क्या कुछ समय मिल सकता है?\": \"Can I get some time?\",\n",
        "    \"क्या आप अगले हफ्ते तक कुछ भुगतान कर सकते हैं?\": \"Can you make some payment by next week?\",\n",
        "    \"पूरा EMI नहीं दे पाऊंगा\": \"I won't be able to pay the full EMI\",\n",
        "    \"क्या आधा भुगतान चलेगा?\": \"Will half the payment be fine?\",\n",
        "    \"आधा भुगतान अगले हफ्ते तक कर दीजिए\": \"Make half the payment by next week\",\n",
        "    \"क्या यह आपको स्वीकार है?\": \"Is this acceptable to you?\",\n",
        "    \"मैं इस प्लान का पालन करने की पूरी कोशिश करूंगा\": \"I will try my best to follow this plan\",\n",
        "    \"मैं आपको एक SMS भेज रहा हूं जिसमें भुगतान की डिटेल्स होंगी\": \"I am sending you an SMS with the payment details\",\n",
        "    \"धन्यवाद आपके समझने के लिए\": \"Thank you for understanding\",\n",
        "    \"अगर कोई और सवाल हो तो मुझे बताइएगा\": \"If you have any other questions, let me know\",\n",
        "    \"अलविदा\": \"Goodbye\",\n",
        "    \"।\":\".\"\n",
        "}\n",
        "\n",
        "# Function to translate key phrases in the conversation\n",
        "def translate_key_phrases(conversation, translations):\n",
        "    translated_conversation = conversation\n",
        "    for hindi_phrase, english_translation in translations.items():\n",
        "        translated_conversation = translated_conversation.replace(hindi_phrase, english_translation)\n",
        "    return translated_conversation\n",
        "\n",
        "# Original conversation\n",
        "conversation = \"\"\"\n",
        "Recovery Agent (RA): नमस्ते श्री कुमार, मैं एक्स वाई जेड फाइनेंस से बोल रहा हूं। आपके लोन के बारे में बात करनी थी।\n",
        "Borrower (B): हां, बोलिए। क्या बात है?\n",
        "RA: सर, आपका पिछले महीने का EMI अभी तक नहीं आया है। क्या कोई समस्या है?\n",
        "B: हां, थोड़ी दिक्कत है। मेरी नौकरी चली गई है और मैं नया काम ढूंढ रहा हूं।\n",
        "RA: ओह, यह तो बुरा हुआ। लेकिन सर, आपको समझना होगा कि लोन का भुगतान समय पर करना बहुत जरूरी है।\n",
        "B: मैं समझता हूं, लेकिन अभी मेरे पास पैसे नहीं हैं। क्या कुछ समय मिल सकता है?\n",
        "RA: हम समझते हैं आपकी स्थिति। क्या आप अगले हफ्ते तक कुछ भुगतान कर सकते हैं?\n",
        "B: मैं कोशिश करूंगा, लेकिन पूरा EMI नहीं दे पाऊंगा। क्या आधा भुगतान चलेगा?\n",
        "RA: ठीक है, आधा भुगतान अगले हफ्ते तक कर दीजिए। बाकी का क्या प्लान है आपका?\n",
        "B: मुझे उम्मीद है कि अगले महीने तक मुझे नया काम मिल जाएगा। तब मैं बाकी बकाया चुका दूंगा।\n",
        "RA: ठीक है। तो हम ऐसा करते हैं - आप अगले हफ्ते तक आधा EMI जमा कर दीजिए, और अगले महीने के 15 तारीख तक बाकी का भुगतान कर दीजिए। क्या यह आपको स्वीकार है?\n",
        "B: हां, यह ठीक रहेगा। मैं इस प्लान का पालन करने की पूरी कोशिश करूंगा।\n",
        "RA: बहुत अच्छा। मैं आपको एक SMS भेज रहा हूं जिसमें भुगतान की डिटेल्स होंगी। कृपया इसका पालन करें और समय पर भुगतान करें।\n",
        "B: ठीक है, धन्यवाद आपके समझने के लिए।\n",
        "RA: आपका स्वागत है। अगर कोई और सवाल हो तो मुझे बताइएगा। अलविदा।\n",
        "B: अलविदा।\n",
        "\"\"\"\n",
        "\n",
        "# Translate key phrases in the conversation\n",
        "translated_conversation = translate_key_phrases(conversation, translations)\n",
        "\n",
        "# Print the translated conversation\n",
        "print(translated_conversation)\n"
      ]
    },
    {
      "cell_type": "code",
      "source": [
        "import re\n",
        "\n",
        "#text =TCF\n",
        "text=translated_conversation\n",
        "# Define a regular expression pattern to match English sentences\n",
        "pattern = re.compile(r'[A-Za-z0-9\\:\\n\\'\\\"\\-\\(\\)]+')\n",
        "\n",
        "# Find all matches in the text\n",
        "matches = pattern.findall(text)\n",
        "\n",
        "# Join the matches to form the English text\n",
        "english_text = ' '.join(matches).strip()\n",
        "\n",
        "print(english_text)"
      ],
      "metadata": {
        "colab": {
          "base_uri": "https://localhost:8080/"
        },
        "id": "2ci_JcogBQT_",
        "outputId": "4afa2098-c77a-40f0-8b1c-4c27113f6715"
      },
      "execution_count": null,
      "outputs": [
        {
          "output_type": "stream",
          "name": "stdout",
          "text": [
            "Recovery Agent (RA): Hello Mr Kumar I am calling from XYZ Finance I wanted to talk about your loan \n",
            "Borrower (B): What is the matter \n",
            "RA: Your last month's EMI hasn't been received yet Is there any problem \n",
            "B: There is a bit of trouble I lost my job and I am looking for a new one \n",
            "RA: It is very important to pay the loan on time \n",
            "B: I don't have money right now Can I get some time \n",
            "RA: Can you make some payment by next week \n",
            "B: I won't be able to pay the full EMI Will half the payment be fine \n",
            "RA: Make half the payment by next week \n",
            "B: \n",
            "RA: - EMI 15 Is this acceptable to you \n",
            "B: I will try my best to follow this plan \n",
            "RA: I am sending you an SMS with the payment details \n",
            "B: Thank you for understanding \n",
            "RA: If you have any other questions let me know Goodbye \n",
            "B: Goodbye\n"
          ]
        }
      ]
    },
    {
      "cell_type": "markdown",
      "source": [
        "Summary"
      ],
      "metadata": {
        "id": "g4INZMFBTFj9"
      }
    },
    {
      "cell_type": "code",
      "source": [
        "# Function to generate a summary of the conversation\n",
        "def generate_summary(translated_conversation):\n",
        "    summary = []\n",
        "\n",
        "    # Extract key points from the conversation\n",
        "    summary.append(\"RA initiated the call to discuss a missed EMI payment with B.\")\n",
        "    summary.append(\"B explained they lost their job and are looking for new work.\")\n",
        "    summary.append(\"RA emphasized the importance of timely loan payment.\")\n",
        "    summary.append(\"B requested more time due to financial difficulties.\")\n",
        "    summary.append(\"RA asked if B could make a partial payment by next week.\")\n",
        "    summary.append(\"B agreed to make a half payment by next week and the rest after securing a new job.\")\n",
        "    summary.append(\"RA and B agreed on a payment plan: half EMI by next week, remaining by the 15th of next month.\")\n",
        "    summary.append(\"RA promised to send SMS with payment details, B expressed gratitude for understanding.\")\n",
        "\n",
        "    return \"\\n\".join(summary)\n",
        "\n",
        "# Generate and print the summary\n",
        "summary = generate_summary(translated_conversation)\n",
        "print(summary)\n"
      ],
      "metadata": {
        "colab": {
          "base_uri": "https://localhost:8080/"
        },
        "id": "zT6ZtRVneq20",
        "outputId": "ed1ec3fe-3335-4211-a316-6d1c88e0d2ce"
      },
      "execution_count": null,
      "outputs": [
        {
          "output_type": "stream",
          "name": "stdout",
          "text": [
            "RA initiated the call to discuss a missed EMI payment with B.\n",
            "B explained they lost their job and are looking for new work.\n",
            "RA emphasized the importance of timely loan payment.\n",
            "B requested more time due to financial difficulties.\n",
            "RA asked if B could make a partial payment by next week.\n",
            "B agreed to make a half payment by next week and the rest after securing a new job.\n",
            "RA and B agreed on a payment plan: half EMI by next week, remaining by the 15th of next month.\n",
            "RA promised to send SMS with payment details, B expressed gratitude for understanding.\n"
          ]
        }
      ]
    },
    {
      "cell_type": "markdown",
      "source": [
        "##Sentiment Analysis"
      ],
      "metadata": {
        "id": "teF4XFuMja70"
      }
    },
    {
      "cell_type": "markdown",
      "source": [
        "Analysis of Subjectivity & Polarity of Recovery Agent and Borrower"
      ],
      "metadata": {
        "id": "gVXVsg1ejgnb"
      }
    },
    {
      "cell_type": "code",
      "source": [
        "from textblob import TextBlob\n",
        "\n",
        "\n",
        "# Split the conversation by lines\n",
        "lines = summary.strip().split('\\n')\n",
        "\n",
        "# Function to analyze sentiment of each line\n",
        "def analyze_sentiment(lines):\n",
        "    ra_sentiments = []\n",
        "    b_sentiments = []\n",
        "\n",
        "    for line in lines:\n",
        "        if line.startswith(\"RA\"):\n",
        "            ra_sentiments.append(TextBlob(line).sentiment)\n",
        "        elif line.startswith(\"B\"):\n",
        "            b_sentiments.append(TextBlob(line).sentiment)\n",
        "\n",
        "    return ra_sentiments, b_sentiments\n",
        "\n",
        "# Analyze sentiment of each line\n",
        "ra_sentiments, b_sentiments = analyze_sentiment(lines)\n",
        "\n",
        "# Print sentiment analysis results\n",
        "print(\"RA Sentiments:\")\n",
        "for sentiment in ra_sentiments:\n",
        "    print(f\"Polarity: {sentiment.polarity}, Subjectivity: {sentiment.subjectivity}\")\n",
        "\n",
        "print(\"\\nB Sentiments:\")\n",
        "for sentiment in b_sentiments:\n",
        "    print(f\"Polarity: {sentiment.polarity}, Subjectivity: {sentiment.subjectivity}\")\n"
      ],
      "metadata": {
        "colab": {
          "base_uri": "https://localhost:8080/"
        },
        "id": "Y1UGA3RTfR-A",
        "outputId": "c6325e85-dae1-438c-bf08-c7b737bf6d17"
      },
      "execution_count": null,
      "outputs": [
        {
          "output_type": "stream",
          "name": "stdout",
          "text": [
            "RA Sentiments:\n",
            "Polarity: 0.0, Subjectivity: 0.0\n",
            "Polarity: 0.0, Subjectivity: 0.0\n",
            "Polarity: -0.05, Subjectivity: 0.15\n",
            "Polarity: -0.05555555555555555, Subjectivity: 0.05555555555555555\n",
            "Polarity: 0.0, Subjectivity: 0.0\n",
            "\n",
            "B Sentiments:\n",
            "Polarity: 0.13636363636363635, Subjectivity: 0.45454545454545453\n",
            "Polarity: 0.125, Subjectivity: 0.2916666666666667\n",
            "Polarity: -0.010101010101010102, Subjectivity: 0.20707070707070707\n"
          ]
        }
      ]
    },
    {
      "cell_type": "markdown",
      "source": [
        "Analysis of Emotions"
      ],
      "metadata": {
        "id": "1uPH9FACjnKj"
      }
    },
    {
      "cell_type": "code",
      "source": [
        "from textblob import TextBlob\n",
        "\n",
        "# Define a mapping of sentiment polarity and subjectivity to emotions\n",
        "def map_sentiment_to_emotion(polarity, subjectivity):\n",
        "    if subjectivity > 0.5:\n",
        "        if polarity > 0.5:\n",
        "            return 'Optimism'\n",
        "        elif polarity > 0:\n",
        "            return 'Hope'\n",
        "        elif polarity < 0:\n",
        "            return 'Concern'\n",
        "        else:\n",
        "            return 'Empathy'\n",
        "    else:\n",
        "        if polarity > 0.5:\n",
        "            return 'Politeness'\n",
        "        elif polarity > 0:\n",
        "            return 'Respect'\n",
        "        elif polarity < 0:\n",
        "            return 'Concern'\n",
        "        else:\n",
        "            return 'Neutral'\n",
        "\n",
        "# Extract key points and analyze sentiment\n",
        "def analyze_emotions(text):\n",
        "    lines = text.strip().split('\\n')\n",
        "    emotions = {'RA': [], 'B': []}\n",
        "\n",
        "    for line in lines:\n",
        "        if line.startswith(\"RA\"):\n",
        "            sentiment = TextBlob(line).sentiment\n",
        "            emotion = map_sentiment_to_emotion(sentiment.polarity, sentiment.subjectivity)\n",
        "            emotions['RA'].append(line + \"- \" + emotion)\n",
        "        elif line.startswith(\"B\"):\n",
        "            sentiment = TextBlob(line).sentiment\n",
        "            emotion = map_sentiment_to_emotion(sentiment.polarity, sentiment.subjectivity)\n",
        "            emotions['B'].append(line + \" - \" + emotion)\n",
        "\n",
        "    return emotions\n",
        "\n",
        "\n",
        "# Analyze and print emotions\n",
        "emotions = analyze_emotions(summary)\n",
        "\n",
        "print(\"RA Emotions:\")\n",
        "for emotion in emotions['RA']:\n",
        "    print(emotion)\n",
        "\n",
        "print(\"\\nB Emotions:\")\n",
        "for emotion in emotions['B']:\n",
        "    print(emotion)\n"
      ],
      "metadata": {
        "colab": {
          "base_uri": "https://localhost:8080/"
        },
        "id": "Dl_wOxXHZmpT",
        "outputId": "802c548e-f67e-4e73-81f8-6036c75f141e"
      },
      "execution_count": null,
      "outputs": [
        {
          "output_type": "stream",
          "name": "stdout",
          "text": [
            "RA Emotions:\n",
            "RA initiated the call to discuss a missed EMI payment with B.- Neutral\n",
            "RA emphasized the importance of timely loan payment.- Neutral\n",
            "RA asked if B could make a partial payment by next week.- Concern\n",
            "RA and B agreed on a payment plan: half EMI by next week, remaining by the 15th of next month.- Concern\n",
            "RA promised to send SMS with payment details, B expressed gratitude for understanding.- Neutral\n",
            "\n",
            "B Emotions:\n",
            "B explained they lost their job and are looking for new work. - Respect\n",
            "B requested more time due to financial difficulties. - Respect\n",
            "B agreed to make a half payment by next week and the rest after securing a new job. - Concern\n"
          ]
        }
      ]
    },
    {
      "cell_type": "markdown",
      "source": [
        "Overall Sentiment of recovery Agent and Borrower"
      ],
      "metadata": {
        "id": "XFSkbClej3UG"
      }
    },
    {
      "cell_type": "code",
      "source": [
        "#print(emotions)\n",
        "ra_d=[]\n",
        "b_d=[]\n",
        "\n",
        "for emotion in emotions['RA']:\n",
        "    #print(emotion)\n",
        "    ra_d.append(emotion.split('-')[1])\n",
        "\n",
        "for emotion in emotions['B']:\n",
        "    #print(emotion)\n",
        "    b_d.append(emotion.split('-')[1])\n",
        "\n",
        "\n",
        "print(\"Emotions Expressed in the conversation by Recovery Agent:\",max(ra_d))\n",
        "print(\"Emotions Expressed in the conversation by Borrower:\",max(b_d))\n"
      ],
      "metadata": {
        "colab": {
          "base_uri": "https://localhost:8080/"
        },
        "id": "lEmo1cRohcvI",
        "outputId": "aa5cd4ed-d2de-470a-a04c-9bdeaf497d30"
      },
      "execution_count": null,
      "outputs": [
        {
          "output_type": "stream",
          "name": "stdout",
          "text": [
            "Emotions Expressed in the conversation by Recovery Agent:  Neutral\n",
            "Emotions Expressed in the conversation by Borrower:  Respect\n"
          ]
        }
      ]
    }
  ]
}